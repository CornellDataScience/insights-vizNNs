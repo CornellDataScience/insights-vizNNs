{
 "cells": [
  {
   "cell_type": "code",
   "execution_count": 1,
   "metadata": {},
   "outputs": [],
   "source": [
    "import numpy as np\n",
    "import scipy.io.wavfile\n",
    "import numpy as np\n",
    "import matplotlib.pyplot as plt\n",
    "from sklearn.manifold import TSNE\n",
    "import os\n",
    "from sklearn.preprocessing import normalize\n",
    "os.environ['TF_CPP_MIN_LOG_LEVEL'] = '3'\n",
    "import scipy as sc"
   ]
  },
  {
   "cell_type": "code",
   "execution_count": 2,
   "metadata": {},
   "outputs": [],
   "source": [
    "from tensorflow import keras\n",
    "fashion_mnist = keras.datasets.fashion_mnist\n",
    "(train_images, train_labels), (test_images,\n",
    "                               test_labels) = fashion_mnist.load_data()\n",
    "\n",
    "train_images = train_images.reshape(-1, 784)\n",
    "test_images = test_images.reshape(-1, 784)"
   ]
  },
  {
   "cell_type": "code",
   "execution_count": 3,
   "metadata": {},
   "outputs": [],
   "source": [
    "\"\"\"\n",
    "    Given an n-dimensional list of points, returns an n*n matrix of \n",
    "    pairwise distances. \n",
    "\"\"\"\n",
    "def calc_distances(pts_lst): \n",
    "    dist_matrix = []\n",
    "    for i in pts_lst: \n",
    "        pts = list(map(lambda x: np.linalg.norm(i-x), pts_lst))\n",
    "        dist_matrix.append(pts)\n",
    "    return np.array(dist_matrix)\n",
    "\n",
    "\n",
    "\"\"\"\n",
    "    Given an n*n matrix of pairwise disantces between n points, \n",
    "\"\"\"\n",
    "def kth_distances(pt_lst,k):\n",
    "    sorted = np.sort(pt_lst)[1:k+1]\n",
    "    pts = []\n",
    "    for i in sorted: \n",
    "        pt_index = np.nonzero(pt_lst==i)\n",
    "        if(len(pt_index)>1): raise Exception(\"same distances\")\n",
    "        else: pt_index = pt_index[0][0]\n",
    "        pts.append({\"pt\":pt_index,\"dist\":i, \"class\":mnist.test.labels[pt_index]})\n",
    "    return pts"
   ]
  },
  {
   "cell_type": "code",
   "execution_count": 4,
   "metadata": {},
   "outputs": [],
   "source": [
    "def pt_ratio(nearest, i_label):\n",
    "    s = 0.0\n",
    "    for i in nearest: \n",
    "        if i[\"class\"]==i_label: s+=1\n",
    "    return s / len(nearest)\n",
    "\n",
    "def n_ratio(projs, k):\n",
    "    distances = calc_distances(projs)#matrix of distances\n",
    "    sum_ratios = 0.0\n",
    "    for i in range(len(distances)): \n",
    "        nearest = kth_distances(distances[i], k)\n",
    "        i_label = mnist.test.labels[i]\n",
    "        sum_ratios += pt_ratio(nearest, i_label)\n",
    "    return sum_ratios / len(distances)"
   ]
  },
  {
   "cell_type": "code",
   "execution_count": 5,
   "metadata": {},
   "outputs": [],
   "source": [
    "import pylab\n",
    "def plot_color(matrix, labels, filename=\"\"):\n",
    "    x = matrix[:, 0].tolist()\n",
    "    y = matrix[:, 1].tolist()\n",
    "    plt.figure(figsize=(6, 6))\n",
    "    pylab.scatter(x, y, c=labels, cmap='Dark2')\n",
    "    if(len(filename) > 0): plt.savefig(filename)"
   ]
  },
  {
   "cell_type": "code",
   "execution_count": 6,
   "metadata": {},
   "outputs": [],
   "source": [
    "def plot_with_labels(lowDWeights, labels, filename='tsne.png'):\n",
    "    assert lowDWeights.shape[0] >= len(labels), \"More labels than weights\"\n",
    "    label_c = np.array([i for i in range(10)])\n",
    "    plt.figure(figsize=(10, 10))  # in inches\n",
    "    for i, label in enumerate(labels):\n",
    "        x, y = lowDWeights[i, :]\n",
    "        plt.scatter(x, y, c=label_c)\n",
    "        plt.annotate(label,\n",
    "                     xy=(x, y),\n",
    "                     xytext=(5, 2),\n",
    "                     textcoords='offset points',\n",
    "                     ha='right',\n",
    "                     va='bottom'\n",
    "                     )\n",
    "\n",
    "    plt.savefig(filename)"
   ]
  },
  {
   "cell_type": "code",
   "execution_count": 7,
   "metadata": {},
   "outputs": [
    {
     "ename": "FileNotFoundError",
     "evalue": "[Errno 2] No such file or directory: 'layer1_epoch_0.npy'",
     "output_type": "error",
     "traceback": [
      "\u001b[0;31m---------------------------------------------------------------------------\u001b[0m",
      "\u001b[0;31mFileNotFoundError\u001b[0m                         Traceback (most recent call last)",
      "\u001b[0;32m<ipython-input-7-ee207688ff67>\u001b[0m in \u001b[0;36m<module>\u001b[0;34m()\u001b[0m\n\u001b[0;32m----> 1\u001b[0;31m \u001b[0mweights_e0\u001b[0m \u001b[0;34m=\u001b[0m \u001b[0mnp\u001b[0m\u001b[0;34m.\u001b[0m\u001b[0mload\u001b[0m\u001b[0;34m(\u001b[0m\u001b[0;34m\"layer1_epoch_0.npy\"\u001b[0m\u001b[0;34m)\u001b[0m\u001b[0;34m\u001b[0m\u001b[0m\n\u001b[0m\u001b[1;32m      2\u001b[0m \u001b[0mweights_e1\u001b[0m \u001b[0;34m=\u001b[0m \u001b[0mnp\u001b[0m\u001b[0;34m.\u001b[0m\u001b[0mload\u001b[0m\u001b[0;34m(\u001b[0m\u001b[0;34m\"layer1_epoch_1.npy\"\u001b[0m\u001b[0;34m)\u001b[0m\u001b[0;34m\u001b[0m\u001b[0m\n\u001b[1;32m      3\u001b[0m \u001b[0mweights_e2\u001b[0m \u001b[0;34m=\u001b[0m \u001b[0mnp\u001b[0m\u001b[0;34m.\u001b[0m\u001b[0mload\u001b[0m\u001b[0;34m(\u001b[0m\u001b[0;34m\"layer1_epoch_2.npy\"\u001b[0m\u001b[0;34m)\u001b[0m\u001b[0;34m\u001b[0m\u001b[0m\n\u001b[1;32m      4\u001b[0m \u001b[0mweights_e3\u001b[0m \u001b[0;34m=\u001b[0m \u001b[0mnp\u001b[0m\u001b[0;34m.\u001b[0m\u001b[0mload\u001b[0m\u001b[0;34m(\u001b[0m\u001b[0;34m\"layer1_epoch_3.npy\"\u001b[0m\u001b[0;34m)\u001b[0m\u001b[0;34m\u001b[0m\u001b[0m\n\u001b[1;32m      5\u001b[0m \u001b[0;31m#weights_e4 = np.load(\"layer1_epoch_4.npy\")\u001b[0m\u001b[0;34m\u001b[0m\u001b[0;34m\u001b[0m\u001b[0m\n",
      "\u001b[0;32m~/anaconda3/envs/tensorflow/lib/python3.6/site-packages/numpy/lib/npyio.py\u001b[0m in \u001b[0;36mload\u001b[0;34m(file, mmap_mode, allow_pickle, fix_imports, encoding)\u001b[0m\n\u001b[1;32m    370\u001b[0m     \u001b[0mown_fid\u001b[0m \u001b[0;34m=\u001b[0m \u001b[0;32mFalse\u001b[0m\u001b[0;34m\u001b[0m\u001b[0m\n\u001b[1;32m    371\u001b[0m     \u001b[0;32mif\u001b[0m \u001b[0misinstance\u001b[0m\u001b[0;34m(\u001b[0m\u001b[0mfile\u001b[0m\u001b[0;34m,\u001b[0m \u001b[0mbasestring\u001b[0m\u001b[0;34m)\u001b[0m\u001b[0;34m:\u001b[0m\u001b[0;34m\u001b[0m\u001b[0m\n\u001b[0;32m--> 372\u001b[0;31m         \u001b[0mfid\u001b[0m \u001b[0;34m=\u001b[0m \u001b[0mopen\u001b[0m\u001b[0;34m(\u001b[0m\u001b[0mfile\u001b[0m\u001b[0;34m,\u001b[0m \u001b[0;34m\"rb\"\u001b[0m\u001b[0;34m)\u001b[0m\u001b[0;34m\u001b[0m\u001b[0m\n\u001b[0m\u001b[1;32m    373\u001b[0m         \u001b[0mown_fid\u001b[0m \u001b[0;34m=\u001b[0m \u001b[0;32mTrue\u001b[0m\u001b[0;34m\u001b[0m\u001b[0m\n\u001b[1;32m    374\u001b[0m     \u001b[0;32melif\u001b[0m \u001b[0mis_pathlib_path\u001b[0m\u001b[0;34m(\u001b[0m\u001b[0mfile\u001b[0m\u001b[0;34m)\u001b[0m\u001b[0;34m:\u001b[0m\u001b[0;34m\u001b[0m\u001b[0m\n",
      "\u001b[0;31mFileNotFoundError\u001b[0m: [Errno 2] No such file or directory: 'layer1_epoch_0.npy'"
     ]
    }
   ],
   "source": [
    "weights_e0 = np.load(\"layer1_epoch_0.npy\")\n",
    "weights_e1 = np.load(\"layer1_epoch_1.npy\")\n",
    "weights_e2 = np.load(\"layer1_epoch_2.npy\")\n",
    "weights_e3 = np.load(\"layer1_epoch_3.npy\")\n",
    "#weights_e4 = np.load(\"layer1_epoch_4.npy\")"
   ]
  },
  {
   "cell_type": "code",
   "execution_count": null,
   "metadata": {
    "scrolled": true
   },
   "outputs": [],
   "source": [
    "tsne = TSNE(perplexity=90, n_components=2, init='random', n_iter=5000)\n",
    "lowD_1 = tsne.fit_transform(weights_e0[:100])\n",
    "#plot_with_labels(lowD_1, test_labels[:100])\n",
    "lowD_1= normalize(lowD_1, axis=0)\n",
    "plot_color(lowD_1, test_labels[:100])"
   ]
  },
  {
   "cell_type": "code",
   "execution_count": null,
   "metadata": {},
   "outputs": [],
   "source": [
    "for i in range(1, 7): \n",
    "    avg += n_ratio(lowD_1[i])\n",
    "    print(\"epoch\"+str(i) + \": \" +str(avg/6))"
   ]
  },
  {
   "cell_type": "code",
   "execution_count": null,
   "metadata": {
    "scrolled": true
   },
   "outputs": [],
   "source": [
    "tsne.set_params(init=lowD_1)\n",
    "lowD_2 = tsne.fit_transform(weights_e1[:100])\n",
    "lowD_2 = normalize(lowD_2, axis=0)\n",
    "#plot_with_labels(lowD_2, test_labels[:100])\n",
    "plot_color(lowD_2, test_labels[:100])"
   ]
  },
  {
   "cell_type": "code",
   "execution_count": null,
   "metadata": {},
   "outputs": [],
   "source": [
    "lowD_3 = tsne.fit_transform(weights_e2[:100])\n",
    "lowD_3 = normalize(lowD_3, axis=0)\n",
    "#plot_with_labels(lowD_3, test_labels[:100])\n",
    "plot_color(lowD_3, test_labels[:100])"
   ]
  },
  {
   "cell_type": "code",
   "execution_count": null,
   "metadata": {
    "scrolled": true
   },
   "outputs": [],
   "source": [
    "lowD_4 = tsne.fit_transform(weights_e3[:100])\n",
    "lowD_4 = normalize(lowD_4, axis=0)\n",
    "#plot_with_labels(lowD_3, test_labels[:100])\n",
    "plot_color(lowD_4, test_labels[:100])"
   ]
  },
  {
   "cell_type": "markdown",
   "metadata": {},
   "source": [
    "# Align as well"
   ]
  },
  {
   "cell_type": "code",
   "execution_count": null,
   "metadata": {},
   "outputs": [],
   "source": [
    "import alignment as al"
   ]
  },
  {
   "cell_type": "code",
   "execution_count": null,
   "metadata": {},
   "outputs": [],
   "source": [
    "source_matrix = al.find_all_centroids(lowD_2, test_labels[:100])\n",
    "target_matrix = al.find_all_centroids(lowD_1, test_labels[:100])"
   ]
  },
  {
   "cell_type": "code",
   "execution_count": null,
   "metadata": {},
   "outputs": [],
   "source": [
    "trans = al.make_transform(source_matrix, target_matrix)"
   ]
  },
  {
   "cell_type": "code",
   "execution_count": null,
   "metadata": {
    "scrolled": true
   },
   "outputs": [],
   "source": [
    "plot_color(lowD_1, test_labels[:100])"
   ]
  },
  {
   "cell_type": "code",
   "execution_count": null,
   "metadata": {
    "scrolled": true
   },
   "outputs": [],
   "source": [
    "plot_color(al.apply_transform(lowD_2, trans), test_labels[:100])"
   ]
  },
  {
   "cell_type": "code",
   "execution_count": null,
   "metadata": {
    "scrolled": true
   },
   "outputs": [],
   "source": [
    "plot_color(al.apply_transform(lowD_4, trans), test_labels[:100])"
   ]
  },
  {
   "cell_type": "markdown",
   "metadata": {},
   "source": [
    "# Try with second layer"
   ]
  },
  {
   "cell_type": "code",
   "execution_count": null,
   "metadata": {},
   "outputs": [],
   "source": [
    "weights_2_e0 = np.load(\"layer2_epoch_0.npy\")\n",
    "weights_2_e1 = np.load(\"layer2_epoch_1.npy\")\n",
    "weights_2_e2 = np.load(\"layer2_epoch_2.npy\")\n",
    "weights_2_e3 = np.load(\"layer2_epoch_3.npy\")\n",
    "weights_2_e4 = np.load(\"layer2_epoch_4.npy\")"
   ]
  },
  {
   "cell_type": "code",
   "execution_count": null,
   "metadata": {},
   "outputs": [],
   "source": [
    "tsne = TSNE(perplexity=30, n_components=2, init='random', n_iter=5000)\n",
    "lowD_2_1 = tsne.fit_transform(weights_2_e0[:100])\n",
    "#plot_with_labels(lowD_1, test_labels[:100])\n",
    "lowD_2_1= normalize(lowD_1, axis=0)\n",
    "plot_color(lowD_2_1, test_labels[:100])"
   ]
  },
  {
   "cell_type": "code",
   "execution_count": null,
   "metadata": {},
   "outputs": [],
   "source": [
    "tsne.set_params(init=lowD_1)\n",
    "lowD_2_2 = tsne.fit_transform(weights_2_e1[:100])\n",
    "lowD_2_2 = normalize(lowD_2, axis=0)\n",
    "#plot_with_labels(lowD_2, test_labels[:100])\n",
    "plot_color(lowD_2_2, test_labels[:100])"
   ]
  },
  {
   "cell_type": "code",
   "execution_count": null,
   "metadata": {},
   "outputs": [],
   "source": [
    "lowD_2_3 = tsne.fit_transform(weights_2_e2[:100])\n",
    "lowD_2_3 = normalize(lowD_3, axis=0)\n",
    "#plot_with_labels(lowD_3, test_labels[:100])\n",
    "plot_color(lowD_2_3, test_labels[:100])"
   ]
  },
  {
   "cell_type": "code",
   "execution_count": null,
   "metadata": {},
   "outputs": [],
   "source": [
    "lowD_2_4 = tsne.fit_transform(weights_2_e3[:100])\n",
    "lowD_2_4 = normalize(lowD_4, axis=0)\n",
    "#plot_with_labels(lowD_3, test_labels[:100])\n",
    "plot_color(lowD_2_4, test_labels[:100])"
   ]
  },
  {
   "cell_type": "code",
   "execution_count": null,
   "metadata": {},
   "outputs": [],
   "source": [
    "lowD_2_5 = tsne.fit_transform(weights_2_e4[:100])\n",
    "lowD_2_5 = normalize(lowD_5, axis=0)\n",
    "#plot_with_labels(lowD_3, test_labels[:100])\n",
    "plot_color(lowD_2_5, test_labels[:100])"
   ]
  },
  {
   "cell_type": "code",
   "execution_count": null,
   "metadata": {},
   "outputs": [],
   "source": [
    "source_matrix = al.find_all_centroids(lowD_2_2, test_labels[:100])\n",
    "target_matrix = al.find_all_centroids(lowD_2_1, test_labels[:100])"
   ]
  },
  {
   "cell_type": "code",
   "execution_count": null,
   "metadata": {},
   "outputs": [],
   "source": [
    "trans = al.make_transform(source_matrix, target_matrix)"
   ]
  },
  {
   "cell_type": "code",
   "execution_count": null,
   "metadata": {
    "scrolled": true
   },
   "outputs": [],
   "source": [
    "plot_color(lowD_2_1, test_labels[:100])"
   ]
  },
  {
   "cell_type": "code",
   "execution_count": null,
   "metadata": {
    "scrolled": true
   },
   "outputs": [],
   "source": [
    "lowD_2_new = al.apply_transform(lowD_2_2, trans)\n",
    "plot_color(al.apply_transform(lowD_2_2, trans), test_labels[:100])"
   ]
  },
  {
   "cell_type": "code",
   "execution_count": null,
   "metadata": {
    "scrolled": true
   },
   "outputs": [],
   "source": [
    "plot_color(al.apply_transform(lowD_2_3, trans), test_labels[:100])"
   ]
  },
  {
   "cell_type": "code",
   "execution_count": null,
   "metadata": {
    "scrolled": false
   },
   "outputs": [],
   "source": [
    "plot_color(al.apply_transform(lowD_2_4, trans), test_labels[:100])"
   ]
  },
  {
   "cell_type": "code",
   "execution_count": null,
   "metadata": {},
   "outputs": [],
   "source": [
    "plot_color(al.apply_transform(lowD_2_5, trans), test_labels[:100])"
   ]
  }
 ],
 "metadata": {
  "kernelspec": {
   "display_name": "Python 3",
   "language": "python",
   "name": "python3"
  },
  "language_info": {
   "codemirror_mode": {
    "name": "ipython",
    "version": 3
   },
   "file_extension": ".py",
   "mimetype": "text/x-python",
   "name": "python",
   "nbconvert_exporter": "python",
   "pygments_lexer": "ipython3",
   "version": "3.6.6"
  }
 },
 "nbformat": 4,
 "nbformat_minor": 2
}

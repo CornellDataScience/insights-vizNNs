{
 "cells": [
  {
   "cell_type": "code",
   "execution_count": 1,
   "metadata": {},
   "outputs": [],
   "source": [
    "import numpy as np\n",
    "import scipy.io.wavfile\n",
    "import numpy as np\n",
    "import matplotlib.pyplot as plt\n",
    "from sklearn.manifold import TSNE\n",
    "import parse_records as pr\n",
    "import os\n",
    "os.environ['TF_CPP_MIN_LOG_LEVEL'] = '3' \n",
    "import scipy as sc\n",
    "import matplotlib.pyplot as plt"
   ]
  },
  {
   "cell_type": "code",
   "execution_count": 2,
   "metadata": {},
   "outputs": [
    {
     "name": "stdout",
     "output_type": "stream",
     "text": [
      "Extracting MNIST-data/train-images-idx3-ubyte.gz\n",
      "Extracting MNIST-data/train-labels-idx1-ubyte.gz\n",
      "Extracting MNIST-data/t10k-images-idx3-ubyte.gz\n",
      "Extracting MNIST-data/t10k-labels-idx1-ubyte.gz\n"
     ]
    }
   ],
   "source": [
    "import tensorflow as tf\n",
    "tf.logging.set_verbosity(tf.logging.ERROR)\n",
    "mnist = tf.contrib.learn.datasets.load_dataset(\"mnist\")\n",
    "\n",
    "labels = mnist.test.labels[:100]"
   ]
  },
  {
   "cell_type": "code",
   "execution_count": 17,
   "metadata": {},
   "outputs": [
    {
     "data": {
      "text/plain": [
       "(7, 100, 2)"
      ]
     },
     "execution_count": 17,
     "metadata": {},
     "output_type": "execute_result"
    }
   ],
   "source": [
    "weights = np.load(\"epoch_weights.npy\")\n",
    "weights.shape"
   ]
  },
  {
   "cell_type": "markdown",
   "metadata": {},
   "source": [
    "## Maintain as DF"
   ]
  },
  {
   "cell_type": "code",
   "execution_count": 26,
   "metadata": {},
   "outputs": [],
   "source": [
    "import pandas as pd\n",
    "df1 = pd.DataFrame(weights[0])\n",
    "df1['labels'] = labels\n",
    "\n",
    "df2 = pd.DataFrame(weights[1])\n",
    "df2['labels'] = labels"
   ]
  },
  {
   "cell_type": "code",
   "execution_count": 36,
   "metadata": {},
   "outputs": [
    {
     "data": {
      "text/html": [
       "<div>\n",
       "<style scoped>\n",
       "    .dataframe tbody tr th:only-of-type {\n",
       "        vertical-align: middle;\n",
       "    }\n",
       "\n",
       "    .dataframe tbody tr th {\n",
       "        vertical-align: top;\n",
       "    }\n",
       "\n",
       "    .dataframe thead th {\n",
       "        text-align: right;\n",
       "    }\n",
       "</style>\n",
       "<table border=\"1\" class=\"dataframe\">\n",
       "  <thead>\n",
       "    <tr style=\"text-align: right;\">\n",
       "      <th></th>\n",
       "      <th>0</th>\n",
       "      <th>1</th>\n",
       "    </tr>\n",
       "  </thead>\n",
       "  <tbody>\n",
       "    <tr>\n",
       "      <th>0</th>\n",
       "      <td>-0.726482</td>\n",
       "      <td>9.907635</td>\n",
       "    </tr>\n",
       "    <tr>\n",
       "      <th>1</th>\n",
       "      <td>-3.512014</td>\n",
       "      <td>7.062853</td>\n",
       "    </tr>\n",
       "    <tr>\n",
       "      <th>2</th>\n",
       "      <td>-1.657359</td>\n",
       "      <td>3.944501</td>\n",
       "    </tr>\n",
       "    <tr>\n",
       "      <th>3</th>\n",
       "      <td>9.111806</td>\n",
       "      <td>1.961343</td>\n",
       "    </tr>\n",
       "    <tr>\n",
       "      <th>4</th>\n",
       "      <td>5.801595</td>\n",
       "      <td>7.121058</td>\n",
       "    </tr>\n",
       "  </tbody>\n",
       "</table>\n",
       "</div>"
      ],
      "text/plain": [
       "          0         1\n",
       "0 -0.726482  9.907635\n",
       "1 -3.512014  7.062853\n",
       "2 -1.657359  3.944501\n",
       "3  9.111806  1.961343\n",
       "4  5.801595  7.121058"
      ]
     },
     "execution_count": 36,
     "metadata": {},
     "output_type": "execute_result"
    }
   ],
   "source": [
    "df1.iloc[:5, :2]"
   ]
  },
  {
   "cell_type": "markdown",
   "metadata": {},
   "source": [
    "# Try to align first two epochs"
   ]
  },
  {
   "cell_type": "code",
   "execution_count": 52,
   "metadata": {},
   "outputs": [],
   "source": [
    "#Target matrix = what you're trying to match\n",
    "#Source matrix = original matrix you're trying to rotate\n",
    "source_matrix = (df2.iloc[:, :2]).values\n",
    "target_matrix = (df1.iloc[:, :2]).values"
   ]
  },
  {
   "cell_type": "code",
   "execution_count": 53,
   "metadata": {},
   "outputs": [
    {
     "name": "stdout",
     "output_type": "stream",
     "text": [
      "(100, 2) (100, 2)\n"
     ]
    }
   ],
   "source": [
    "print(source_matrix.shape, target_matrix.shape)"
   ]
  },
  {
   "cell_type": "code",
   "execution_count": 54,
   "metadata": {},
   "outputs": [],
   "source": [
    "def make_transform(source_matrix, target_matrix):\n",
    "    product = np.matmul(source_matrix.transpose(), target_matrix)\n",
    "    U, s, V = np.linalg.svd(product)\n",
    "    trans = np.matmul(U, V)\n",
    "    return trans"
   ]
  },
  {
   "cell_type": "code",
   "execution_count": 55,
   "metadata": {},
   "outputs": [],
   "source": [
    "def make_apply_transform(source_matrix, target_matrix):\n",
    "    product = np.matmul(source_matrix.transpose(), target_matrix)\n",
    "    U, s, V = np.linalg.svd(product)\n",
    "    trans = np.matmul(U, V)\n",
    "    #target_matrix_new = np.matmul(target_matrix, trans)\n",
    "    source_new = np.matmul(source_matrix, trans)\n",
    "    return source_new"
   ]
  },
  {
   "cell_type": "code",
   "execution_count": 56,
   "metadata": {},
   "outputs": [],
   "source": [
    "def apply_transform(source_matrix, trans): \n",
    "    target_matrix_new = np.matmul(source_matrix, trans)\n",
    "    return target_matrix_new"
   ]
  },
  {
   "cell_type": "code",
   "execution_count": 57,
   "metadata": {
    "scrolled": true
   },
   "outputs": [],
   "source": [
    "def plot_with_labels(matrix, labels, filename=\"\"):\n",
    "    x = matrix[:, 0].tolist()\n",
    "    y = matrix[:, 1].tolist()\n",
    "    labels = mnist.test.labels[:100]\n",
    "    plt.figure(figsize=(5, 5))  #in inches\n",
    "    for i, label in enumerate(labels):\n",
    "            plt.scatter(x, y)\n",
    "            plt.annotate(label,\n",
    "                     xy=(x[i], y[i]),\n",
    "                     xytext=(5, 2),\n",
    "                     textcoords='offset points',\n",
    "                     ha='right',\n",
    "                     va='bottom')\n",
    "            if(len(filename) > 0): plt.savefig(filename)"
   ]
  },
  {
   "cell_type": "code",
   "execution_count": 58,
   "metadata": {},
   "outputs": [],
   "source": [
    "trans = make_transform(source_matrix, target_matrix)\n",
    "source_matrix_new = apply_transform(source_matrix,trans)"
   ]
  },
  {
   "cell_type": "code",
   "execution_count": 59,
   "metadata": {
    "scrolled": true
   },
   "outputs": [
    {
     "data": {
      "text/plain": [
       "array([[-3.2185094,  5.011431 ],\n",
       "       [-7.31421  ,  3.4305122],\n",
       "       [-1.5117372, -2.820406 ],\n",
       "       [ 4.149684 , -4.087768 ],\n",
       "       [ 4.7030997,  2.9604661]], dtype=float32)"
      ]
     },
     "execution_count": 59,
     "metadata": {},
     "output_type": "execute_result"
    }
   ],
   "source": [
    "source_matrix_new[:5]"
   ]
  },
  {
   "cell_type": "code",
   "execution_count": 60,
   "metadata": {},
   "outputs": [],
   "source": [
    "def avg_cos_sim(source, target):\n",
    "    sims = np.array([sc.spatial.distance.cosine(source[i], target[i]) for i in range(len(source))])\n",
    "   #print(sims)\n",
    "    return np.average(sims)"
   ]
  },
  {
   "cell_type": "markdown",
   "metadata": {},
   "source": [
    "Checking out the similarity between different vector representations. \n",
    "1. Source_matrix vs. \\_new: should be close together, since they're the same matrix only rotated a bit. \n",
    "2. Source_matrix vs. target_matrix: should be relatively spread apart since we're trying to get source closer to target. \n",
    "3. Source_matrix_new vs. target_matrix: Should be a lower value than 2, since that would mean we've successfully aligned the two vector spaces, but likely won't be as low as 1. "
   ]
  },
  {
   "cell_type": "code",
   "execution_count": 62,
   "metadata": {},
   "outputs": [
    {
     "name": "stdout",
     "output_type": "stream",
     "text": [
      "similarity of source to source_new 0.3736748230457306\n",
      "similarity of vectors before re-align 0.6405016563343815\n",
      "similarity of vectors after re-align 0.5555049610882997\n"
     ]
    }
   ],
   "source": [
    "print(\"similarity of source to source_new\", avg_cos_sim(source_matrix, source_matrix_new))\n",
    "print(\"similarity of vectors before re-align\",avg_cos_sim(source_matrix, target_matrix))\n",
    "print(\"similarity of vectors after re-align\",avg_cos_sim(source_matrix_new, target_matrix))"
   ]
  },
  {
   "cell_type": "code",
   "execution_count": 64,
   "metadata": {},
   "outputs": [
    {
     "data": {
      "image/png": "[encoded data removed]",
      "text/plain": [
       "<Figure size 360x360 with 1 Axes>"
      ]
     },
     "metadata": {
      "needs_background": "light"
     },
     "output_type": "display_data"
    }
   ],
   "source": [
    "#plot_with_labels(target_matrix,labels)\n",
    "#plot_with_labels(source_matrix, labels)\n",
    "plot_with_labels(source_matrix_new, labels)"
   ]
  },
  {
   "cell_type": "markdown",
   "metadata": {},
   "source": [
    "## Align The Centroids vs. the whole dataset"
   ]
  },
  {
   "cell_type": "code",
   "execution_count": 70,
   "metadata": {},
   "outputs": [],
   "source": [
    "df1_group = df1.groupby(df1['labels'])"
   ]
  },
  {
   "cell_type": "code",
   "execution_count": 90,
   "metadata": {},
   "outputs": [
    {
     "data": {
      "text/plain": [
       "pandas.core.frame.DataFrame"
      ]
     },
     "execution_count": 90,
     "metadata": {},
     "output_type": "execute_result"
    }
   ],
   "source": [
    "type(df1_group.get_group(1))"
   ]
  },
  {
   "cell_type": "code",
   "execution_count": 96,
   "metadata": {},
   "outputs": [],
   "source": [
    "def find_centroid(df): \n",
    "    x = np.mean(df.iloc[:, 0])\n",
    "    y = np.mean(df.iloc[:, 1])\n",
    "    return [x,y]"
   ]
  },
  {
   "cell_type": "code",
   "execution_count": 97,
   "metadata": {},
   "outputs": [
    {
     "data": {
      "text/plain": [
       "[-0.8656185, 4.125817]"
      ]
     },
     "execution_count": 97,
     "metadata": {},
     "output_type": "execute_result"
    }
   ],
   "source": [
    "find_centroid(df1_group.get_group(1))"
   ]
  },
  {
   "cell_type": "code",
   "execution_count": 146,
   "metadata": {},
   "outputs": [],
   "source": [
    "def find_all_centroids(all_weights):\n",
    "    etot_centroids = []\n",
    "    for i in range(len(all_weights)):\n",
    "        dfi = pd.DataFrame(all_weights[i])\n",
    "        dfi['labels'] = labels\n",
    "        ei_centroids = []\n",
    "        for name, group in dfi.groupby(dfi['labels']):\n",
    "            cent = find_centroid(group)\n",
    "            ei_centroids.append(cent)\n",
    "        ei_centroids = np.array(ei_centroids)\n",
    "        etot_centroids.append(ei_centroids)\n",
    "        #print(e1_centroids)\n",
    "    return np.array(etot_centroids)"
   ]
  },
  {
   "cell_type": "code",
   "execution_count": 147,
   "metadata": {},
   "outputs": [],
   "source": [
    "y = find_all_centroids(weights)"
   ]
  },
  {
   "cell_type": "code",
   "execution_count": 151,
   "metadata": {},
   "outputs": [],
   "source": [
    "source_matrix = y[1]\n",
    "target_matrix = y[0]\n",
    "trans = make_transform(source_matrix, target_matrix)\n",
    "\n",
    "source_matrix_new = apply_transform(source_matrix, trans)"
   ]
  },
  {
   "cell_type": "code",
   "execution_count": 152,
   "metadata": {},
   "outputs": [
    {
     "data": {
      "text/plain": [
       "array([[ 4.4114423 , -3.6844835 ],\n",
       "       [-1.2043024 , -2.2502718 ],\n",
       "       [-6.902654  ,  2.5574813 ],\n",
       "       [-3.8628511 ,  0.39162537],\n",
       "       [ 3.8119714 ,  3.5707412 ],\n",
       "       [ 2.4953952 ,  0.4588765 ],\n",
       "       [ 5.9144444 , -0.8568028 ],\n",
       "       [-3.970137  ,  4.393532  ],\n",
       "       [ 1.9969057 , -0.985729  ],\n",
       "       [-0.46491846,  2.3946028 ]], dtype=float32)"
      ]
     },
     "execution_count": 152,
     "metadata": {},
     "output_type": "execute_result"
    }
   ],
   "source": [
    "source_matrix_new"
   ]
  },
  {
   "cell_type": "code",
   "execution_count": 154,
   "metadata": {},
   "outputs": [
    {
     "data": {
      "text/plain": [
       "(2, 2)"
      ]
     },
     "execution_count": 154,
     "metadata": {},
     "output_type": "execute_result"
    }
   ],
   "source": [
    "trans.shape"
   ]
  },
  {
   "cell_type": "code",
   "execution_count": null,
   "metadata": {},
   "outputs": [],
   "source": []
  }
 ],
 "metadata": {
  "kernelspec": {
   "display_name": "Python 3",
   "language": "python",
   "name": "python3"
  },
  "language_info": {
   "codemirror_mode": {
    "name": "ipython",
    "version": 3
   },
   "file_extension": ".py",
   "mimetype": "text/x-python",
   "name": "python",
   "nbconvert_exporter": "python",
   "pygments_lexer": "ipython3",
   "version": "3.6.6"
  }
 },
 "nbformat": 4,
 "nbformat_minor": 2
}

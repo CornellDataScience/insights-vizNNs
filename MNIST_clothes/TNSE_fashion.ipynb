{
 "cells": [
  {
   "cell_type": "code",
   "execution_count": 1,
   "metadata": {},
   "outputs": [],
   "source": [
    "import numpy as np\n",
    "import scipy.io.wavfile\n",
    "import numpy as np\n",
    "import matplotlib.pyplot as plt\n",
    "from sklearn.manifold import TSNE\n",
    "import os\n",
    "from sklearn.preprocessing import normalize\n",
    "os.environ['TF_CPP_MIN_LOG_LEVEL'] = '3'\n",
    "import scipy as sc"
   ]
  },
  {
   "cell_type": "code",
   "execution_count": 4,
   "metadata": {},
   "outputs": [
    {
     "data": {
      "text/plain": [
       "(5, 5, 32, 64)"
      ]
     },
     "execution_count": 4,
     "metadata": {},
     "output_type": "execute_result"
    }
   ],
   "source": [
    "c = np.load(\"convWeight2_epoch_0.npy\")\n",
    "c.shape"
   ]
  },
  {
   "cell_type": "code",
   "execution_count": 2,
   "metadata": {},
   "outputs": [
    {
     "ename": "ModuleNotFoundError",
     "evalue": "No module named 'tensorflow'",
     "output_type": "error",
     "traceback": [
      "\u001b[0;31m---------------------------------------------------------------------------\u001b[0m",
      "\u001b[0;31mModuleNotFoundError\u001b[0m                       Traceback (most recent call last)",
      "\u001b[0;32m<ipython-input-2-c7de5e1167de>\u001b[0m in \u001b[0;36m<module>\u001b[0;34m()\u001b[0m\n\u001b[0;32m----> 1\u001b[0;31m \u001b[0;32mfrom\u001b[0m \u001b[0mtensorflow\u001b[0m \u001b[0;32mimport\u001b[0m \u001b[0mkeras\u001b[0m\u001b[0;34m\u001b[0m\u001b[0m\n\u001b[0m\u001b[1;32m      2\u001b[0m \u001b[0mfashion_mnist\u001b[0m \u001b[0;34m=\u001b[0m \u001b[0mkeras\u001b[0m\u001b[0;34m.\u001b[0m\u001b[0mdatasets\u001b[0m\u001b[0;34m.\u001b[0m\u001b[0mfashion_mnist\u001b[0m\u001b[0;34m\u001b[0m\u001b[0m\n\u001b[1;32m      3\u001b[0m (train_images, train_labels), (test_images,\n\u001b[1;32m      4\u001b[0m                                test_labels) = fashion_mnist.load_data()\n\u001b[1;32m      5\u001b[0m \u001b[0;34m\u001b[0m\u001b[0m\n",
      "\u001b[0;31mModuleNotFoundError\u001b[0m: No module named 'tensorflow'"
     ]
    }
   ],
   "source": [
    "from tensorflow import keras\n",
    "fashion_mnist = keras.datasets.fashion_mnist\n",
    "(train_images, train_labels), (test_images,\n",
    "                               test_labels) = fashion_mnist.load_data()\n",
    "\n",
    "train_images = train_images.reshape(-1, 784)\n",
    "test_images = test_images.reshape(-1, 784)"
   ]
  },
  {
   "cell_type": "code",
   "execution_count": null,
   "metadata": {},
   "outputs": [],
   "source": [
    "import pylab\n",
    "def plot_color(matrix, labels, filename=\"\"):\n",
    "    x = matrix[:, 0].tolist()\n",
    "    y = matrix[:, 1].tolist()\n",
    "    plt.figure(figsize=(6, 6))\n",
    "    pylab.scatter(x, y, c=labels, cmap='Dark2')\n",
    "    if(len(filename) > 0): plt.savefig(filename)"
   ]
  },
  {
   "cell_type": "code",
   "execution_count": null,
   "metadata": {},
   "outputs": [],
   "source": [
    "def plot_with_labels(lowDWeights, labels, filename='tsne.png'):\n",
    "    assert lowDWeights.shape[0] >= len(labels), \"More labels than weights\"\n",
    "    label_c = np.array([i for i in range(10)])\n",
    "    plt.figure(figsize=(10, 10))  # in inches\n",
    "    for i, label in enumerate(labels):\n",
    "        x, y = lowDWeights[i, :]\n",
    "        plt.scatter(x, y, c=label_c)\n",
    "        plt.annotate(label,\n",
    "                     xy=(x, y),\n",
    "                     xytext=(5, 2),\n",
    "                     textcoords='offset points',\n",
    "                     ha='right',\n",
    "                     va='bottom'\n",
    "                     )\n",
    "\n",
    "    plt.savefig(filename)"
   ]
  },
  {
   "cell_type": "code",
   "execution_count": null,
   "metadata": {},
   "outputs": [],
   "source": [
    "weights_e0 = np.load(\"layer1_epoch_0.npy\")\n",
    "weights_e1 = np.load(\"layer1_epoch_1.npy\")\n",
    "weights_e2 = np.load(\"layer1_epoch_2.npy\")\n",
    "weights_e3 = np.load(\"layer1_epoch_3.npy\")"
   ]
  },
  {
   "cell_type": "code",
   "execution_count": null,
   "metadata": {},
   "outputs": [],
   "source": [
    "tsne = TSNE(perplexity=90, n_components=2, init='random', n_iter=5000)\n",
    "lowD_1 = tsne.fit_transform(weights_e0[:500])\n",
    "#plot_with_labels(lowD_1, test_labels[:100])\n",
    "lowD_1= normalize(lowD_1, axis=0)\n",
    "plot_color(lowD_1, test_labels[:500])"
   ]
  },
  {
   "cell_type": "code",
   "execution_count": null,
   "metadata": {
    "scrolled": true
   },
   "outputs": [],
   "source": [
    "tsne.set_params(init=lowD_1)\n",
    "lowD_2 = tsne.fit_transform(weights_e1[:500])\n",
    "lowD_2 = normalize(lowD_2, axis=0)\n",
    "#plot_with_labels(lowD_2, test_labels[:100])\n",
    "plot_color(lowD_2, test_labels[:500])"
   ]
  },
  {
   "cell_type": "code",
   "execution_count": null,
   "metadata": {},
   "outputs": [],
   "source": [
    "lowD_3 = tsne.fit_transform(weights_e2[:500])\n",
    "lowD_3 = normalize(lowD_3, axis=0)\n",
    "#plot_with_labels(lowD_3, test_labels[:100])\n",
    "plot_color(lowD_3, test_labels[:500])"
   ]
  },
  {
   "cell_type": "code",
   "execution_count": null,
   "metadata": {
    "scrolled": true
   },
   "outputs": [],
   "source": [
    "lowD_4 = tsne.fit_transform(weights_e3[:500])\n",
    "lowD_4 = normalize(lowD_4, axis=0)\n",
    "#plot_with_labels(lowD_3, test_labels[:100])\n",
    "plot_color(lowD_4, test_labels[:500])"
   ]
  },
  {
   "cell_type": "markdown",
   "metadata": {},
   "source": [
    "# Align as well"
   ]
  },
  {
   "cell_type": "code",
   "execution_count": null,
   "metadata": {},
   "outputs": [],
   "source": [
    "import alignment as al"
   ]
  },
  {
   "cell_type": "code",
   "execution_count": null,
   "metadata": {},
   "outputs": [],
   "source": [
    "source_matrix = al.find_all_centroids(lowD_1, test_labels[:500])\n",
    "target_matrix = al.find_all_centroids(lowD_2, test_labels[:500])"
   ]
  },
  {
   "cell_type": "code",
   "execution_count": null,
   "metadata": {},
   "outputs": [],
   "source": [
    "trans_cent = al.make_transform(source_matrix, target_matrix)\n",
    "trans = al.make_transform(lowD_1, lowD_2)"
   ]
  },
  {
   "cell_type": "code",
   "execution_count": null,
   "metadata": {},
   "outputs": [],
   "source": [
    "print(lowD_1.shape, trans.shape)"
   ]
  },
  {
   "cell_type": "code",
   "execution_count": null,
   "metadata": {
    "scrolled": true
   },
   "outputs": [],
   "source": [
    "plot_color(lowD_1, test_labels[:500])"
   ]
  },
  {
   "cell_type": "code",
   "execution_count": null,
   "metadata": {
    "scrolled": true
   },
   "outputs": [],
   "source": [
    "plot_color(al.apply_transform(lowD_2, trans_cent), test_labels[:500])"
   ]
  },
  {
   "cell_type": "code",
   "execution_count": null,
   "metadata": {
    "scrolled": true
   },
   "outputs": [],
   "source": [
    "plot_color(al.apply_transform(lowD_3, trans), test_labels[:500])"
   ]
  },
  {
   "cell_type": "code",
   "execution_count": null,
   "metadata": {},
   "outputs": [],
   "source": [
    "plot_color(al.apply_transform(lowD_4, trans), test_labels[:500])"
   ]
  },
  {
   "cell_type": "markdown",
   "metadata": {},
   "source": [
    "# Try with second layer"
   ]
  },
  {
   "cell_type": "code",
   "execution_count": null,
   "metadata": {},
   "outputs": [],
   "source": [
    "weights_2_e0 = np.load(\"layer2_epoch_0.npy\")\n",
    "weights_2_e1 = np.load(\"layer2_epoch_1.npy\")\n",
    "weights_2_e2 = np.load(\"layer2_epoch_2.npy\")\n",
    "weights_2_e3 = np.load(\"layer2_epoch_3.npy\")\n",
    "weights_2_e4 = np.load(\"layer2_epoch_4.npy\")"
   ]
  },
  {
   "cell_type": "code",
   "execution_count": null,
   "metadata": {},
   "outputs": [],
   "source": [
    "tsne = TSNE(perplexity=30, n_components=2, init='random', n_iter=5000)\n",
    "lowD_2_1 = tsne.fit_transform(weights_2_e0[:500])\n",
    "#plot_with_labels(lowD_1, test_labels[:100])\n",
    "lowD_2_1= normalize(lowD_1, axis=0)\n",
    "plot_color(lowD_2_1, test_labels[:500])"
   ]
  },
  {
   "cell_type": "code",
   "execution_count": null,
   "metadata": {},
   "outputs": [],
   "source": [
    "tsne.set_params(init=lowD_1)\n",
    "lowD_2_2 = tsne.fit_transform(weights_2_e1[:500])\n",
    "lowD_2_2 = normalize(lowD_2, axis=0)\n",
    "#plot_with_labels(lowD_2, test_labels[:100])\n",
    "plot_color(lowD_2_2, test_labels[:500])"
   ]
  },
  {
   "cell_type": "code",
   "execution_count": null,
   "metadata": {},
   "outputs": [],
   "source": [
    "lowD_2_3 = tsne.fit_transform(weights_2_e2[:500])\n",
    "lowD_2_3 = normalize(lowD_3, axis=0)\n",
    "#plot_with_labels(lowD_3, test_labels[:100])\n",
    "plot_color(lowD_2_3, test_labels[:500])"
   ]
  },
  {
   "cell_type": "code",
   "execution_count": null,
   "metadata": {},
   "outputs": [],
   "source": [
    "lowD_2_4 = tsne.fit_transform(weights_2_e3[:500])\n",
    "lowD_2_4 = normalize(lowD_4, axis=0)\n",
    "#plot_with_labels(lowD_3, test_labels[:100])\n",
    "plot_color(lowD_2_4, test_labels[:500])"
   ]
  },
  {
   "cell_type": "code",
   "execution_count": null,
   "metadata": {},
   "outputs": [],
   "source": [
    "source_matrix = al.find_all_centroids(lowD_2_2, test_labels[:500])\n",
    "target_matrix = al.find_all_centroids(lowD_2_1, test_labels[:500])"
   ]
  },
  {
   "cell_type": "code",
   "execution_count": null,
   "metadata": {},
   "outputs": [],
   "source": [
    "trans2 = al.make_transform(lowD_2_2, lowD_2_1)"
   ]
  },
  {
   "cell_type": "code",
   "execution_count": null,
   "metadata": {
    "scrolled": true
   },
   "outputs": [],
   "source": [
    "plot_color(lowD_2_1, test_labels[:500])"
   ]
  },
  {
   "cell_type": "code",
   "execution_count": null,
   "metadata": {
    "scrolled": true
   },
   "outputs": [],
   "source": [
    "lowD_2_new = al.apply_transform(lowD_2_2, trans2)\n",
    "plot_color(al.apply_transform(lowD_2_2, trans2), test_labels[:500])"
   ]
  },
  {
   "cell_type": "code",
   "execution_count": null,
   "metadata": {
    "scrolled": true
   },
   "outputs": [],
   "source": [
    "plot_color(al.apply_transform(lowD_2_3, trans2), test_labels[:500])"
   ]
  },
  {
   "cell_type": "code",
   "execution_count": null,
   "metadata": {
    "scrolled": true
   },
   "outputs": [],
   "source": [
    "plot_color(al.apply_transform(lowD_2_4, trans2), test_labels[:500])"
   ]
  },
  {
   "cell_type": "markdown",
   "metadata": {},
   "source": [
    "## Trying to look at overall clustering structure"
   ]
  },
  {
   "cell_type": "code",
   "execution_count": null,
   "metadata": {},
   "outputs": [],
   "source": [
    "from scipy.spatial import Voronoi, voronoi_plot_2d"
   ]
  },
  {
   "cell_type": "code",
   "execution_count": null,
   "metadata": {},
   "outputs": [],
   "source": [
    "vor = Voronoi(lowD_2_1)"
   ]
  },
  {
   "cell_type": "code",
   "execution_count": null,
   "metadata": {},
   "outputs": [],
   "source": []
  }
 ],
 "metadata": {
  "kernelspec": {
   "display_name": "Python 3",
   "language": "python",
   "name": "python3"
  },
  "language_info": {
   "codemirror_mode": {
    "name": "ipython",
    "version": 3
   },
   "file_extension": ".py",
   "mimetype": "text/x-python",
   "name": "python",
   "nbconvert_exporter": "python",
   "pygments_lexer": "ipython3",
   "version": "3.6.5"
  }
 },
 "nbformat": 4,
 "nbformat_minor": 2
}
